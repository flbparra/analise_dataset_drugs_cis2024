{
 "cells": [
  {
   "cell_type": "markdown",
   "id": "e6398800-9c8a-4f50-b768-6c8598d94827",
   "metadata": {},
   "source": [
    "## Resolucao melhorada do desafio cis 2024"
   ]
  },
  {
   "cell_type": "code",
   "execution_count": 19,
   "id": "c858cda6-6ff4-424c-886a-8fc4d1728ccb",
   "metadata": {},
   "outputs": [],
   "source": [
    "import pandas as pd\n",
    "import numpy as np"
   ]
  },
  {
   "cell_type": "code",
   "execution_count": 27,
   "id": "3de938a5-bcca-4608-80c9-f4394d826135",
   "metadata": {},
   "outputs": [],
   "source": [
    "df = pd.read_csv(\"Drugs.csv\")"
   ]
  },
  {
   "cell_type": "code",
   "execution_count": 11,
   "id": "884151c3-46f8-45df-b441-bbbdaac4fd2c",
   "metadata": {},
   "outputs": [
    {
     "name": "stdout",
     "output_type": "stream",
     "text": [
      "<class 'pandas.core.frame.DataFrame'>\n",
      "RangeIndex: 1884 entries, 0 to 1883\n",
      "Data columns (total 33 columns):\n",
      " #   Column        Non-Null Count  Dtype  \n",
      "---  ------        --------------  -----  \n",
      " 0   ID            1884 non-null   int64  \n",
      " 1   Age           1884 non-null   object \n",
      " 2   Gender        1880 non-null   object \n",
      " 3   Education     1881 non-null   object \n",
      " 4   Country       1883 non-null   object \n",
      " 5   Ethnicity     1882 non-null   object \n",
      " 6   Income (USD)  23 non-null     float64\n",
      " 7   Nscore        1880 non-null   float64\n",
      " 8   Escore        1881 non-null   float64\n",
      " 9   Oscore        1881 non-null   float64\n",
      " 10  AScore        1880 non-null   float64\n",
      " 11  Cscore        1879 non-null   float64\n",
      " 12  Impulsive     1881 non-null   object \n",
      " 13  SS            1877 non-null   float64\n",
      " 14  Alcohol       1881 non-null   object \n",
      " 15  Amphet        1882 non-null   object \n",
      " 16  Amyl          1882 non-null   object \n",
      " 17  Benzos        1882 non-null   object \n",
      " 18  Caff          1880 non-null   object \n",
      " 19  Cannabis      1883 non-null   object \n",
      " 20  Choc          1882 non-null   object \n",
      " 21  Coke          1883 non-null   object \n",
      " 22  Crack         1883 non-null   object \n",
      " 23  Ecstasy       1884 non-null   object \n",
      " 24  Heroin        1884 non-null   object \n",
      " 25  Ketamine      1884 non-null   object \n",
      " 26  Legalh        1884 non-null   object \n",
      " 27  LSD           1884 non-null   object \n",
      " 28  Meth          1884 non-null   object \n",
      " 29  Mushrooms     1884 non-null   object \n",
      " 30  Nicotine      1884 non-null   object \n",
      " 31  Semer         1884 non-null   object \n",
      " 32  VSA           1884 non-null   object \n",
      "dtypes: float64(7), int64(1), object(25)\n",
      "memory usage: 485.8+ KB\n"
     ]
    }
   ],
   "source": [
    "df.info()"
   ]
  },
  {
   "cell_type": "code",
   "execution_count": 41,
   "id": "c4b10fa3-5e7d-461e-9fd4-7b3b178201b8",
   "metadata": {},
   "outputs": [
    {
     "data": {
      "text/plain": [
       "Impulsive\n",
       "-0.21712    353\n",
       "-0.71126    307\n",
       "-1.37983    275\n",
       " 0.19268    255\n",
       " 0.52975    216\n",
       " 0.88113    195\n",
       " 1.29221    148\n",
       " 1.86203    104\n",
       "-2.55524     20\n",
       " 2.90161      7\n",
       "Name: count, dtype: int64"
      ]
     },
     "execution_count": 41,
     "metadata": {},
     "output_type": "execute_result"
    }
   ],
   "source": [
    "df[\"Impulsive\"].value_counts()"
   ]
  },
  {
   "cell_type": "code",
   "execution_count": 39,
   "id": "fecd94a0-dba1-4ed1-bec0-a699d1c57a68",
   "metadata": {},
   "outputs": [],
   "source": [
    "df.loc[df[\"Impulsive\"]=='?', \"Impulsive\"] = np.nan\n",
    "df[\"Impulsive\"] = df[\"Impulsive\"].apply(lambda x: float(x))"
   ]
  },
  {
   "cell_type": "code",
   "execution_count": 40,
   "id": "0774c59b-d1d3-41bb-b18e-789ef04063f2",
   "metadata": {},
   "outputs": [
    {
     "data": {
      "text/plain": [
       "0      -0.71126\n",
       "1      -1.37983\n",
       "2      -1.37983\n",
       "3      -0.21712\n",
       "4      -1.37983\n",
       "         ...   \n",
       "1879    0.88113\n",
       "1880    0.88113\n",
       "1881    0.52975\n",
       "1882    1.29221\n",
       "1883    0.88113\n",
       "Name: Impulsive, Length: 1884, dtype: float64"
      ]
     },
     "execution_count": 40,
     "metadata": {},
     "output_type": "execute_result"
    }
   ],
   "source": [
    "df[\"Impulsive\"]"
   ]
  },
  {
   "cell_type": "code",
   "execution_count": 43,
   "id": "769549dc-40b1-4626-9ec9-7b5ab8b1961a",
   "metadata": {},
   "outputs": [
    {
     "name": "stdout",
     "output_type": "stream",
     "text": [
      "<class 'pandas.core.frame.DataFrame'>\n",
      "RangeIndex: 1884 entries, 0 to 1883\n",
      "Data columns (total 34 columns):\n",
      " #   Column        Non-Null Count  Dtype  \n",
      "---  ------        --------------  -----  \n",
      " 0   ID            1884 non-null   int64  \n",
      " 1   Age           1884 non-null   object \n",
      " 2   Gender        1880 non-null   object \n",
      " 3   Education     1881 non-null   object \n",
      " 4   Country       1883 non-null   object \n",
      " 5   Ethnicity     1882 non-null   object \n",
      " 6   Income (USD)  23 non-null     float64\n",
      " 7   Nscore        1880 non-null   float64\n",
      " 8   Escore        1881 non-null   float64\n",
      " 9   Oscore        1881 non-null   float64\n",
      " 10  AScore        1880 non-null   float64\n",
      " 11  Cscore        1879 non-null   float64\n",
      " 12  Impulsive     1880 non-null   float64\n",
      " 13  SS            1877 non-null   float64\n",
      " 14  Alcohol       1881 non-null   object \n",
      " 15  Amphet        1882 non-null   object \n",
      " 16  Amyl          1882 non-null   object \n",
      " 17  Benzos        1882 non-null   object \n",
      " 18  Caff          1880 non-null   object \n",
      " 19  Cannabis      1883 non-null   object \n",
      " 20  Choc          1882 non-null   object \n",
      " 21  Coke          1883 non-null   object \n",
      " 22  Crack         1883 non-null   object \n",
      " 23  Ecstasy       1884 non-null   object \n",
      " 24  Heroin        1884 non-null   object \n",
      " 25  Ketamine      1884 non-null   object \n",
      " 26  Legalh        1884 non-null   object \n",
      " 27  LSD           1884 non-null   object \n",
      " 28  Meth          1884 non-null   object \n",
      " 29  Mushrooms     1884 non-null   object \n",
      " 30  Nicotine      1884 non-null   object \n",
      " 31  Semer         1884 non-null   object \n",
      " 32  VSA           1884 non-null   object \n",
      " 33  Impulsive2    0 non-null      float64\n",
      "dtypes: float64(9), int64(1), object(24)\n",
      "memory usage: 500.6+ KB\n"
     ]
    }
   ],
   "source": [
    "df.info()"
   ]
  },
  {
   "cell_type": "markdown",
   "id": "026a20aa-afb8-45bc-8add-37e5f049720b",
   "metadata": {},
   "source": [
    "- Verifiquei que existe muitos valores nulos na nossa tabela, entao decidir fazer a susbitituicao desses valores usando fillna(), pelo valor que mais aparecia so existia 1"
   ]
  },
  {
   "cell_type": "code",
   "execution_count": 55,
   "id": "54761f9d-2dc1-448b-8f92-632a40a41ebc",
   "metadata": {},
   "outputs": [
    {
     "data": {
      "text/plain": [
       "0          NaN\n",
       "1          NaN\n",
       "2          NaN\n",
       "3          NaN\n",
       "4          NaN\n",
       "         ...  \n",
       "1879       NaN\n",
       "1880       NaN\n",
       "1881    1000.0\n",
       "1882    1000.0\n",
       "1883    1000.0\n",
       "Name: Income (USD), Length: 1884, dtype: float64"
      ]
     },
     "execution_count": 55,
     "metadata": {},
     "output_type": "execute_result"
    }
   ],
   "source": [
    "df['Income (USD)']"
   ]
  },
  {
   "cell_type": "code",
   "execution_count": 58,
   "id": "2d7573aa-1464-46c6-a275-253b2a1903bf",
   "metadata": {},
   "outputs": [
    {
     "data": {
      "text/plain": [
       "Income (USD)\n",
       "1000.0    23\n",
       "Name: count, dtype: int64"
      ]
     },
     "execution_count": 58,
     "metadata": {},
     "output_type": "execute_result"
    }
   ],
   "source": [
    "df['Income (USD)'].value_counts()"
   ]
  },
  {
   "cell_type": "code",
   "execution_count": 59,
   "id": "3e32ba3a-8694-41c1-9f36-5919034ac762",
   "metadata": {},
   "outputs": [],
   "source": [
    "df['Income (USD)'] = df['Income (USD)'].fillna(value=1000.0)"
   ]
  },
  {
   "cell_type": "code",
   "execution_count": 60,
   "id": "955cce38-3b2a-41a3-90a5-3a151323ad68",
   "metadata": {},
   "outputs": [
    {
     "data": {
      "text/plain": [
       "Income (USD)\n",
       "1000.0    1884\n",
       "Name: count, dtype: int64"
      ]
     },
     "execution_count": 60,
     "metadata": {},
     "output_type": "execute_result"
    }
   ],
   "source": [
    "df['Income (USD)'].value_counts()"
   ]
  }
 ],
 "metadata": {
  "kernelspec": {
   "display_name": "Python 3 (ipykernel)",
   "language": "python",
   "name": "python3"
  },
  "language_info": {
   "codemirror_mode": {
    "name": "ipython",
    "version": 3
   },
   "file_extension": ".py",
   "mimetype": "text/x-python",
   "name": "python",
   "nbconvert_exporter": "python",
   "pygments_lexer": "ipython3",
   "version": "3.11.7"
  }
 },
 "nbformat": 4,
 "nbformat_minor": 5
}
